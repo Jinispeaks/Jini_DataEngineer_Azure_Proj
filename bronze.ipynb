df= spark.read.format("parquet")\
              .option("inferSchema","true")\
              .load('abfss://bronze@saanushe2e.dfs.core.windows.net/raw')
df.display()
